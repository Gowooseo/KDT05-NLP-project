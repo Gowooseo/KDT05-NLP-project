{
 "cells": [
  {
   "cell_type": "code",
   "execution_count": 18,
   "metadata": {},
   "outputs": [],
   "source": [
    "import pandas as pd\n",
    "import json\n",
    "\n",
    "# CSV 파일 불러오기\n",
    "df = pd.read_csv(\"야인시대.csv\")\n",
    "\n",
    "# \"인물\"과 \"대사\" 열 선택\n",
    "df = df[[\"인물\", \"대사\"]]\n",
    "\n",
    "df = df[df[\"대사\"].str.len() > 70]"
   ]
  },
  {
   "cell_type": "code",
   "execution_count": 19,
   "metadata": {},
   "outputs": [
    {
     "data": {
      "text/html": [
       "<div>\n",
       "<style scoped>\n",
       "    .dataframe tbody tr th:only-of-type {\n",
       "        vertical-align: middle;\n",
       "    }\n",
       "\n",
       "    .dataframe tbody tr th {\n",
       "        vertical-align: top;\n",
       "    }\n",
       "\n",
       "    .dataframe thead th {\n",
       "        text-align: right;\n",
       "    }\n",
       "</style>\n",
       "<table border=\"1\" class=\"dataframe\">\n",
       "  <thead>\n",
       "    <tr style=\"text-align: right;\">\n",
       "      <th></th>\n",
       "      <th>인물</th>\n",
       "      <th>대사</th>\n",
       "    </tr>\n",
       "  </thead>\n",
       "  <tbody>\n",
       "    <tr>\n",
       "      <th>0</th>\n",
       "      <td>두한</td>\n",
       "      <td>어머니...! 어머니 죽으면 안 돼요...! 어머니...! 어머니, 말 좀 해보세요...</td>\n",
       "    </tr>\n",
       "    <tr>\n",
       "      <th>1</th>\n",
       "      <td>두한</td>\n",
       "      <td>하지만 이 분명 우리만의 돈은 아닙니다. 이런 건 많은 사람들의 참여가 필요합니다....</td>\n",
       "    </tr>\n",
       "    <tr>\n",
       "      <th>2</th>\n",
       "      <td>두한</td>\n",
       "      <td>그럴 것 같습니다. 당연하지요. 이, 전쟁이 끝난 이 서울 거리에 먹을 게 있습니까...</td>\n",
       "    </tr>\n",
       "    <tr>\n",
       "      <th>3</th>\n",
       "      <td>두한</td>\n",
       "      <td>하하하! 아무튼, 처음부터 관철이 네게 맡긴 일이니까 잘 해봐. 이런 일에는 내가 ...</td>\n",
       "    </tr>\n",
       "    <tr>\n",
       "      <th>4</th>\n",
       "      <td>두한</td>\n",
       "      <td>이 앞서 얘기했지만 돈을 만지는 일입니다. 뒤에서 조용히 있는 고문 정도가 좋습니다...</td>\n",
       "    </tr>\n",
       "    <tr>\n",
       "      <th>...</th>\n",
       "      <td>...</td>\n",
       "      <td>...</td>\n",
       "    </tr>\n",
       "    <tr>\n",
       "      <th>1100</th>\n",
       "      <td>정진영</td>\n",
       "      <td>두한이의 목숨이 달려 있는 일입니다. 그런저런 이유를 따질 때가 아닙니다, 형님.....</td>\n",
       "    </tr>\n",
       "    <tr>\n",
       "      <th>1101</th>\n",
       "      <td>정진영</td>\n",
       "      <td>지금은 너 자신만을 생각해야 돼. 우미관 식구 뿐 아니라 종로의 모든 사람들이 두한...</td>\n",
       "    </tr>\n",
       "    <tr>\n",
       "      <th>1102</th>\n",
       "      <td>정진영</td>\n",
       "      <td>저, 그렇게 됐습니다. 아 지금 최동열 기자님께 통행증을 부탁드리고 오는 길입니다....</td>\n",
       "    </tr>\n",
       "    <tr>\n",
       "      <th>1103</th>\n",
       "      <td>정진영</td>\n",
       "      <td>박헌영 동무께서 신신당부하셨던 큰 과업이었다. 그런데 또 다시 과오를 범했어! 심영...</td>\n",
       "    </tr>\n",
       "    <tr>\n",
       "      <th>1104</th>\n",
       "      <td>정진영</td>\n",
       "      <td>물론 그렇기는 합니다마는... 시간만 더 주신다면은 틀림없이 해 보이겠습니다. 문제...</td>\n",
       "    </tr>\n",
       "  </tbody>\n",
       "</table>\n",
       "<p>1105 rows × 2 columns</p>\n",
       "</div>"
      ],
      "text/plain": [
       "       인물                                                 대사\n",
       "0      두한  어머니...! 어머니 죽으면 안 돼요...! 어머니...! 어머니, 말 좀 해보세요...\n",
       "1      두한  하지만 이 분명 우리만의 돈은 아닙니다. 이런 건 많은 사람들의 참여가 필요합니다....\n",
       "2      두한  그럴 것 같습니다. 당연하지요. 이, 전쟁이 끝난 이 서울 거리에 먹을 게 있습니까...\n",
       "3      두한  하하하! 아무튼, 처음부터 관철이 네게 맡긴 일이니까 잘 해봐. 이런 일에는 내가 ...\n",
       "4      두한  이 앞서 얘기했지만 돈을 만지는 일입니다. 뒤에서 조용히 있는 고문 정도가 좋습니다...\n",
       "...   ...                                                ...\n",
       "1100  정진영  두한이의 목숨이 달려 있는 일입니다. 그런저런 이유를 따질 때가 아닙니다, 형님.....\n",
       "1101  정진영  지금은 너 자신만을 생각해야 돼. 우미관 식구 뿐 아니라 종로의 모든 사람들이 두한...\n",
       "1102  정진영  저, 그렇게 됐습니다. 아 지금 최동열 기자님께 통행증을 부탁드리고 오는 길입니다....\n",
       "1103  정진영  박헌영 동무께서 신신당부하셨던 큰 과업이었다. 그런데 또 다시 과오를 범했어! 심영...\n",
       "1104  정진영  물론 그렇기는 합니다마는... 시간만 더 주신다면은 틀림없이 해 보이겠습니다. 문제...\n",
       "\n",
       "[1105 rows x 2 columns]"
      ]
     },
     "execution_count": 19,
     "metadata": {},
     "output_type": "execute_result"
    }
   ],
   "source": [
    "df = df.sort_values(\"인물\").reset_index(drop=True)\n",
    "df[\"인물\"].value_counts()\n",
    "df"
   ]
  },
  {
   "cell_type": "code",
   "execution_count": 20,
   "metadata": {},
   "outputs": [],
   "source": [
    "import csv\n",
    "df.to_csv(\"야인시대2.csv\", index=False, quoting=csv.QUOTE_NONE, escapechar=\" \")"
   ]
  },
  {
   "cell_type": "code",
   "execution_count": 13,
   "metadata": {},
   "outputs": [
    {
     "data": {
      "text/plain": [
       "FileObject(id='file-E9qelNsl1VkwqfaxSOrPPo19', bytes=35252, created_at=1712192259, filename='train.jsonl', object='file', purpose='fine-tune', status='processed', status_details=None)"
      ]
     },
     "execution_count": 13,
     "metadata": {},
     "output_type": "execute_result"
    }
   ],
   "source": [
    "#https://platform.openai.com/docs/guides/fine-tuning/preparing-your-dataset\n",
    "\n",
    "from openai import OpenAI\n",
    "client = OpenAI()\n",
    "\n",
    "client.files.create(\n",
    "  file=open(\"train.jsonl\", \"rb\"),\n",
    "  purpose=\"fine-tune\"\n",
    ")"
   ]
  },
  {
   "cell_type": "code",
   "execution_count": 14,
   "metadata": {},
   "outputs": [
    {
     "data": {
      "text/plain": [
       "FineTuningJob(id='ftjob-Aoedw71ZHkIAVjdYEttzmj5k', created_at=1712192269, error=Error(code=None, message=None, param=None, error=None), fine_tuned_model=None, finished_at=None, hyperparameters=Hyperparameters(n_epochs='auto', batch_size='auto', learning_rate_multiplier='auto'), model='gpt-3.5-turbo-0125', object='fine_tuning.job', organization_id='org-4GBDLkDtYsir8xfWl4v4lrPq', result_files=[], status='validating_files', trained_tokens=None, training_file='file-E9qelNsl1VkwqfaxSOrPPo19', validation_file=None, user_provided_suffix=None, seed=573546948)"
      ]
     },
     "execution_count": 14,
     "metadata": {},
     "output_type": "execute_result"
    }
   ],
   "source": [
    "client.fine_tuning.jobs.create(\n",
    "  training_file=\"file-E9qelNsl1VkwqfaxSOrPPo19\", \n",
    "  model=\"gpt-3.5-turbo\",\n",
    ")\n",
    "# https://community.openai.com/t/fine-tuning-process-lock-on-validating-files/410799/5"
   ]
  },
  {
   "cell_type": "code",
   "execution_count": 16,
   "metadata": {},
   "outputs": [
    {
     "data": {
      "text/plain": [
       "FineTuningJob(id='ftjob-Aoedw71ZHkIAVjdYEttzmj5k', created_at=1712192269, error=Error(code=None, message=None, param=None, error=None), fine_tuned_model='ft:gpt-3.5-turbo-0125:personal::9A5nr7em', finished_at=1712192613, hyperparameters=Hyperparameters(n_epochs=10, batch_size=1, learning_rate_multiplier=2), model='gpt-3.5-turbo-0125', object='fine_tuning.job', organization_id='org-4GBDLkDtYsir8xfWl4v4lrPq', result_files=['file-xTCVomwUkZLyL1cBr1GwHJ0c'], status='succeeded', trained_tokens=164300, training_file='file-E9qelNsl1VkwqfaxSOrPPo19', validation_file=None, user_provided_suffix=None, seed=573546948)"
      ]
     },
     "execution_count": 16,
     "metadata": {},
     "output_type": "execute_result"
    }
   ],
   "source": [
    "from openai import OpenAI\n",
    "client = OpenAI()\n",
    "client.fine_tuning.jobs.retrieve(\"ftjob-Aoedw71ZHkIAVjdYEttzmj5k\")"
   ]
  },
  {
   "cell_type": "code",
   "execution_count": 8,
   "metadata": {},
   "outputs": [
    {
     "name": "stdout",
     "output_type": "stream",
     "text": [
      "ChatCompletionMessage(content='식빵물고 등교하다가 갑자기 뒤에서 \"아니 이거 꼭 먹어 봐야 돼!\"라는 목소리 듣고 깜짝 놀라더라고', role='assistant', function_call=None, tool_calls=None)\n"
     ]
    }
   ],
   "source": [
    "from openai import OpenAI\n",
    "client = OpenAI()\n",
    "\n",
    "completion = client.chat.completions.create(\n",
    "  model=\"ft:gpt-3.5-turbo-0125:personal::9A5DGR93\",\n",
    "  messages=[\n",
    "    {\"role\": \"system\", \"content\": \"김두한의 말투와 단어, 어투를 살려서 문장을 작성해줘\"}, \n",
    "    {\"role\": \"user\", \"content\": \"두한이가 식빵물고 등교하다 문득 뒤에서 들리는 목소리에 깜짝 놀라는 순간을 문장으로 나타내줘\"}\n",
    "  ]\n",
    ")\n",
    "print(completion.choices[0].message)"
   ]
  },
  {
   "cell_type": "code",
   "execution_count": 11,
   "metadata": {},
   "outputs": [
    {
     "name": "stdout",
     "output_type": "stream",
     "text": [
      "휴지.....야.....(고개 척) 수비는 확실하게 해야겠네요. 점수로 이기자고!\n"
     ]
    }
   ],
   "source": [
    "completion = client.chat.completions.create(\n",
    "  model=\"ft:gpt-3.5-turbo-0125:personal::9A5DGR93\",\n",
    "  messages=[\n",
    "    {\"role\": \"system\", \"content\": \"이승만의 말투와 단어, 어투를 살려서 문장을 작성해줘\"}, \n",
    "    {\"role\": \"user\", \"content\": \"이승만이 농구하는 상황\"}\n",
    "  ]\n",
    ")\n",
    "print(completion.choices[0].message.content)"
   ]
  },
  {
   "cell_type": "code",
   "execution_count": 12,
   "metadata": {},
   "outputs": [
    {
     "name": "stdout",
     "output_type": "stream",
     "text": [
      "야밤에 역시 문의가 제일 많아. 새벽이 와도 불지를 않아서 새벽이 밝은데서 짜증이 나는데 역시 칸막이 이야기를 제일 들어줄 만한 부분이 있지.\n"
     ]
    }
   ],
   "source": [
    "completion = client.chat.completions.create(\n",
    "  model=\"ft:gpt-3.5-turbo-0125:personal::9A5DGR93\",\n",
    "  messages=[\n",
    "    {\"role\": \"system\", \"content\": \"김두한의 말투와 단어, 어투를 살려서 문장을 작성해줘\"},\n",
    "    {\"role\": \"user\", \"content\": \"김두한이 밤을 새는 상황\"}\n",
    "  ]\n",
    ")\n",
    "print(completion.choices[0].message.content)"
   ]
  },
  {
   "cell_type": "code",
   "execution_count": 19,
   "metadata": {},
   "outputs": [
    {
     "name": "stdout",
     "output_type": "stream",
     "text": [
      "형님한테는 꼭 존댓말을 써주지! 상대가 어렸든 말든, 나보다 먼저 인사해줄 때까지는, 꼭 기다려줘야해!\n"
     ]
    }
   ],
   "source": [
    "# 새 모델 완성 : ft:gpt-3.5-turbo-0125:personal::9A5nr7em\n",
    "\n",
    "completion = client.chat.completions.create(\n",
    "  model=\"ft:gpt-3.5-turbo-0125:personal::9A5nr7em\",\n",
    "  messages=[\n",
    "    {\"role\": \"system\", \"content\": \"김두한의 말투와 단어, 어투를 살려서 문장을 작성해줘\"}, \n",
    "    {\"role\": \"user\", \"content\": \"김두한이 형님을 대하는 방법\"}\n",
    "  ]\n",
    ")\n",
    "print(completion.choices[0].message.content)"
   ]
  },
  {
   "cell_type": "code",
   "execution_count": 2,
   "metadata": {},
   "outputs": [
    {
     "name": "stdout",
     "output_type": "stream",
     "text": [
      "정진영\n"
     ]
    }
   ],
   "source": [
    "# 회사는 자아실현의 공간이나 사상을 설파하는 장소가 아니다\n",
    "from openai import OpenAI\n",
    "client = OpenAI()\n",
    "\n",
    "completion = client.chat.completions.create(\n",
    "  model=\"ft:gpt-3.5-turbo-0125:personal::9A5nr7em\",\n",
    "  messages=[\n",
    "    {\"role\": \"system\", \"content\": \"문장을 입력하면 이 문장이과 가장 가까운 사람을 말해줘(두한, 이정재, 정진영, 이승만)\"},\n",
    "    {\"role\": \"user\", \"content\": \"회사는 자아실현의 공간이나 사상을 설파하는 장소가 아니다\"}\n",
    "  ]\n",
    ")\n",
    "print(completion.choices[0].message.content)"
   ]
  }
 ],
 "metadata": {
  "kernelspec": {
   "display_name": "TEXT_017_220_38",
   "language": "python",
   "name": "python3"
  },
  "language_info": {
   "codemirror_mode": {
    "name": "ipython",
    "version": 3
   },
   "file_extension": ".py",
   "mimetype": "text/x-python",
   "name": "python",
   "nbconvert_exporter": "python",
   "pygments_lexer": "ipython3",
   "version": "3.8.19"
  }
 },
 "nbformat": 4,
 "nbformat_minor": 2
}
