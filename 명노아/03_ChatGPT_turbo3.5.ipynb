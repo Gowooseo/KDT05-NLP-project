{
 "cells": [
  {
   "cell_type": "code",
   "execution_count": 5,
   "metadata": {},
   "outputs": [],
   "source": [
    "import pandas as pd\n",
    "import json\n",
    "\n",
    "# CSV 파일 불러오기\n",
    "df = pd.read_csv(\"야인시대.csv\")\n",
    "\n",
    "# \"인물\"과 \"대사\" 열 선택\n",
    "df = df[[\"인물\", \"대사\"]]\n",
    "\n",
    "df = df[df[\"대사\"].str.len() > 70]"
   ]
  },
  {
   "cell_type": "code",
   "execution_count": 6,
   "metadata": {},
   "outputs": [
    {
     "data": {
      "text/html": [
       "<div>\n",
       "<style scoped>\n",
       "    .dataframe tbody tr th:only-of-type {\n",
       "        vertical-align: middle;\n",
       "    }\n",
       "\n",
       "    .dataframe tbody tr th {\n",
       "        vertical-align: top;\n",
       "    }\n",
       "\n",
       "    .dataframe thead th {\n",
       "        text-align: right;\n",
       "    }\n",
       "</style>\n",
       "<table border=\"1\" class=\"dataframe\">\n",
       "  <thead>\n",
       "    <tr style=\"text-align: right;\">\n",
       "      <th></th>\n",
       "      <th>인물과 대사</th>\n",
       "    </tr>\n",
       "  </thead>\n",
       "  <tbody>\n",
       "    <tr>\n",
       "      <th>55</th>\n",
       "      <td>두한:어머니...!어머니죽으면안돼요...!어머니...!어머니,말좀해보세요어머니......</td>\n",
       "    </tr>\n",
       "    <tr>\n",
       "      <th>74</th>\n",
       "      <td>두한:좋아요.그렇다면할수없지요.불에타죽어도나는몰라요!지금그런모습으로밖에나오면두사람모...</td>\n",
       "    </tr>\n",
       "    <tr>\n",
       "      <th>76</th>\n",
       "      <td>두한:내가잘못한게아니야.나는마을사람들에게좋은일을한거야.외삼촌도빼앗긴걸모두찾게될거야....</td>\n",
       "    </tr>\n",
       "    <tr>\n",
       "      <th>78</th>\n",
       "      <td>두한:나는나쁜짓을안했어요!가네야마그놈이나쁜놈이에요.온마을사람들을괴롭히는자예요.그자는...</td>\n",
       "    </tr>\n",
       "    <tr>\n",
       "      <th>136</th>\n",
       "      <td>두한:어,어얼씨구씨구들어간다...절씨구씨구들어간다...작년에왔던각설이가죽,죽지도않고...</td>\n",
       "    </tr>\n",
       "    <tr>\n",
       "      <th>...</th>\n",
       "      <td>...</td>\n",
       "    </tr>\n",
       "    <tr>\n",
       "      <th>9724</th>\n",
       "      <td>두한:그래야지...오랜세월을거치면서이땅에많은주먹들이스쳐갔어.그래도나는나름대로하나도둘...</td>\n",
       "    </tr>\n",
       "    <tr>\n",
       "      <th>9725</th>\n",
       "      <td>두한:일환이도내뜻을알았다면그렇게살아야돼.지금까지내가본조일환이는아주열심히살았어.내뜻을...</td>\n",
       "    </tr>\n",
       "    <tr>\n",
       "      <th>9728</th>\n",
       "      <td>두한:자비로운부처님.아무래도이제갈때가온것같습니다.열심히산다고살았는데모든것이안타깝고섭...</td>\n",
       "    </tr>\n",
       "    <tr>\n",
       "      <th>9729</th>\n",
       "      <td>두한:용서해주십시오.그게다애국을하느라고그렇게됐습니다.용서해주십시오.용서해주십시오.나...</td>\n",
       "    </tr>\n",
       "    <tr>\n",
       "      <th>9730</th>\n",
       "      <td>두한:이미죽은사람이거나살아있는사람이거나다다살펴주십시오.평생고생만해온내가족들한번한번더...</td>\n",
       "    </tr>\n",
       "  </tbody>\n",
       "</table>\n",
       "<p>1105 rows × 1 columns</p>\n",
       "</div>"
      ],
      "text/plain": [
       "                                                 인물과 대사\n",
       "55    두한:어머니...!어머니죽으면안돼요...!어머니...!어머니,말좀해보세요어머니......\n",
       "74    두한:좋아요.그렇다면할수없지요.불에타죽어도나는몰라요!지금그런모습으로밖에나오면두사람모...\n",
       "76    두한:내가잘못한게아니야.나는마을사람들에게좋은일을한거야.외삼촌도빼앗긴걸모두찾게될거야....\n",
       "78    두한:나는나쁜짓을안했어요!가네야마그놈이나쁜놈이에요.온마을사람들을괴롭히는자예요.그자는...\n",
       "136   두한:어,어얼씨구씨구들어간다...절씨구씨구들어간다...작년에왔던각설이가죽,죽지도않고...\n",
       "...                                                 ...\n",
       "9724  두한:그래야지...오랜세월을거치면서이땅에많은주먹들이스쳐갔어.그래도나는나름대로하나도둘...\n",
       "9725  두한:일환이도내뜻을알았다면그렇게살아야돼.지금까지내가본조일환이는아주열심히살았어.내뜻을...\n",
       "9728  두한:자비로운부처님.아무래도이제갈때가온것같습니다.열심히산다고살았는데모든것이안타깝고섭...\n",
       "9729  두한:용서해주십시오.그게다애국을하느라고그렇게됐습니다.용서해주십시오.용서해주십시오.나...\n",
       "9730  두한:이미죽은사람이거나살아있는사람이거나다다살펴주십시오.평생고생만해온내가족들한번한번더...\n",
       "\n",
       "[1105 rows x 1 columns]"
      ]
     },
     "execution_count": 6,
     "metadata": {},
     "output_type": "execute_result"
    }
   ],
   "source": [
    "df\n",
    "# 인물과 대사를 \":\"기호로 한 열에 합치고, 모든 공백을 제거\n",
    "df[\"인물과 대사\"] = df[\"인물\"] + \":\" + df[\"대사\"]\n",
    "df[\"인물과 대사\"] = df[\"인물과 대사\"].str.replace(\" \", \"\")\n",
    "\n",
    "df = df.drop([\"인물\", \"대사\"], axis=1)\n",
    "df"
   ]
  },
  {
   "cell_type": "code",
   "execution_count": 7,
   "metadata": {},
   "outputs": [
    {
     "data": {
      "text/plain": [
       "75979"
      ]
     },
     "execution_count": 7,
     "metadata": {},
     "output_type": "execute_result"
    }
   ],
   "source": [
    "# 해당 df의 인물과 대사를 str로 전체 합치기\n",
    "dataset=\"\"\n",
    "for i in df[\"인물과 대사\"]: \n",
    "    dataset=dataset+i\n",
    "len(dataset)"
   ]
  },
  {
   "cell_type": "code",
   "execution_count": 8,
   "metadata": {},
   "outputs": [],
   "source": [
    "# dataset을 txt파일에 작성\n",
    "with open(\"야인시대.txt\", \"w\") as f:\n",
    "    f.write(dataset)"
   ]
  },
  {
   "cell_type": "code",
   "execution_count": 23,
   "metadata": {},
   "outputs": [
    {
     "name": "stdout",
     "output_type": "stream",
     "text": [
      "ChatCompletionMessage(content='두한이가 식빵을 꼭 쥐고 등교하던 중, 갑자기 뒤에서 들리는 목소리에 깜짝 놀라는 순간이었다. 두한이는 황급히 뒤를 돌아보았다. 이승만의 목소리가 들려왔다.', role='assistant', function_call=None, tool_calls=None)\n"
     ]
    }
   ],
   "source": [
    "from openai import OpenAI\n",
    "client = OpenAI()\n",
    "\n",
    "completion = client.chat.completions.create(\n",
    "  model=\"gpt-3.5-turbo\",\n",
    "  messages=[\n",
    "    {\"role\": \"system\", \"content\": dataset[0:12500]}, # 최대 토큰 제한 \n",
    "    {\"role\": \"user\", \"content\": \"두한이가 식빵물고 등교하다 문득 뒤에서 들리는 목소리에 깜짝 놀라는 순간을 문장으로 나타내줘\"}\n",
    "  ]\n",
    ")\n",
    "print(completion.choices[0].message)"
   ]
  },
  {
   "cell_type": "code",
   "execution_count": 22,
   "metadata": {},
   "outputs": [
    {
     "name": "stdout",
     "output_type": "stream",
     "text": [
      "ChatCompletionMessage(content='두한: 이젠 스스로 깨달았다. 종로의 마흔들은 자유로운 연대니께 울려퍼져야하는 거다. 쓰러지지 않는 이의지를 위해, 나의 피로 세워낸 새로운 태양의 대지 앞에서 힘을 모아야 한다. 모두가 신념을 공유하고 한마음으로 전쟁을 일으켜 이길 수 있을 것이다. 계획을 세우고 움직여봐야지, 우리는 이렇게 더 나은 세상을 위해 싸울 것이다. 함께 일어서자! 위대한 조국의 혁명 방파제로서, 승리를 위해!', role='assistant', function_call=None, tool_calls=None)\n"
     ]
    }
   ],
   "source": [
    "from openai import OpenAI\n",
    "client = OpenAI()\n",
    "\n",
    "completion = client.chat.completions.create(\n",
    "  model=\"gpt-3.5-turbo\",\n",
    "  messages=[\n",
    "    {\"role\": \"system\", \"content\": dataset[0:12500]}, # 최대 토큰 제한 \n",
    "    {\"role\": \"user\", \"content\": \"두한이가 혁명을 일으킬려는 발언을 해줘\"}\n",
    "  ]\n",
    ")\n",
    "print(completion.choices[0].message)"
   ]
  },
  {
   "cell_type": "code",
   "execution_count": null,
   "metadata": {},
   "outputs": [],
   "source": []
  }
 ],
 "metadata": {
  "kernelspec": {
   "display_name": "TEXT_017_220_38",
   "language": "python",
   "name": "python3"
  },
  "language_info": {
   "codemirror_mode": {
    "name": "ipython",
    "version": 3
   },
   "file_extension": ".py",
   "mimetype": "text/x-python",
   "name": "python",
   "nbconvert_exporter": "python",
   "pygments_lexer": "ipython3",
   "version": "3.8.19"
  }
 },
 "nbformat": 4,
 "nbformat_minor": 2
}
